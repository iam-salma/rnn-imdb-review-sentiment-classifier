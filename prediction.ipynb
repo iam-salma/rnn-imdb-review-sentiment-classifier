{
 "cells": [
  {
   "cell_type": "code",
   "execution_count": 1,
   "metadata": {},
   "outputs": [],
   "source": [
    "# Step 1: Import Libraries and Load the Model\n",
    "import numpy as np\n",
    "import tensorflow as tf\n",
    "from tensorflow.keras.datasets import imdb\n",
    "from tensorflow.keras.preprocessing import sequence\n",
    "from tensorflow.keras.models import load_model"
   ]
  },
  {
   "cell_type": "code",
   "execution_count": 2,
   "metadata": {},
   "outputs": [],
   "source": [
    "# Load the IMDB dataset word index\n",
    "word_index = imdb.get_word_index()\n",
    "reverse_word_index = {value: key for key, value in word_index.items()}"
   ]
  },
  {
   "cell_type": "code",
   "execution_count": 3,
   "metadata": {},
   "outputs": [
    {
     "name": "stderr",
     "output_type": "stream",
     "text": [
      "WARNING:absl:Compiled the loaded model, but the compiled metrics have yet to be built. `model.compile_metrics` will be empty until you train or evaluate the model.\n"
     ]
    },
    {
     "data": {
      "text/html": [
       "<pre style=\"white-space:pre;overflow-x:auto;line-height:normal;font-family:Menlo,'DejaVu Sans Mono',consolas,'Courier New',monospace\"><span style=\"font-weight: bold\">Model: \"sequential_1\"</span>\n",
       "</pre>\n"
      ],
      "text/plain": [
       "\u001b[1mModel: \"sequential_1\"\u001b[0m\n"
      ]
     },
     "metadata": {},
     "output_type": "display_data"
    },
    {
     "data": {
      "text/html": [
       "<pre style=\"white-space:pre;overflow-x:auto;line-height:normal;font-family:Menlo,'DejaVu Sans Mono',consolas,'Courier New',monospace\">┏━━━━━━━━━━━━━━━━━━━━━━━━━━━━━━━━━┳━━━━━━━━━━━━━━━━━━━━━━━━┳━━━━━━━━━━━━━━━┓\n",
       "┃<span style=\"font-weight: bold\"> Layer (type)                    </span>┃<span style=\"font-weight: bold\"> Output Shape           </span>┃<span style=\"font-weight: bold\">       Param # </span>┃\n",
       "┡━━━━━━━━━━━━━━━━━━━━━━━━━━━━━━━━━╇━━━━━━━━━━━━━━━━━━━━━━━━╇━━━━━━━━━━━━━━━┩\n",
       "│ embedding_1 (<span style=\"color: #0087ff; text-decoration-color: #0087ff\">Embedding</span>)         │ (<span style=\"color: #00af00; text-decoration-color: #00af00\">32</span>, <span style=\"color: #00af00; text-decoration-color: #00af00\">500</span>, <span style=\"color: #00af00; text-decoration-color: #00af00\">128</span>)         │     <span style=\"color: #00af00; text-decoration-color: #00af00\">1,280,000</span> │\n",
       "├─────────────────────────────────┼────────────────────────┼───────────────┤\n",
       "│ simple_rnn_1 (<span style=\"color: #0087ff; text-decoration-color: #0087ff\">SimpleRNN</span>)        │ (<span style=\"color: #00af00; text-decoration-color: #00af00\">32</span>, <span style=\"color: #00af00; text-decoration-color: #00af00\">128</span>)              │        <span style=\"color: #00af00; text-decoration-color: #00af00\">32,896</span> │\n",
       "├─────────────────────────────────┼────────────────────────┼───────────────┤\n",
       "│ dense_1 (<span style=\"color: #0087ff; text-decoration-color: #0087ff\">Dense</span>)                 │ (<span style=\"color: #00af00; text-decoration-color: #00af00\">32</span>, <span style=\"color: #00af00; text-decoration-color: #00af00\">1</span>)                │           <span style=\"color: #00af00; text-decoration-color: #00af00\">129</span> │\n",
       "└─────────────────────────────────┴────────────────────────┴───────────────┘\n",
       "</pre>\n"
      ],
      "text/plain": [
       "┏━━━━━━━━━━━━━━━━━━━━━━━━━━━━━━━━━┳━━━━━━━━━━━━━━━━━━━━━━━━┳━━━━━━━━━━━━━━━┓\n",
       "┃\u001b[1m \u001b[0m\u001b[1mLayer (type)                   \u001b[0m\u001b[1m \u001b[0m┃\u001b[1m \u001b[0m\u001b[1mOutput Shape          \u001b[0m\u001b[1m \u001b[0m┃\u001b[1m \u001b[0m\u001b[1m      Param #\u001b[0m\u001b[1m \u001b[0m┃\n",
       "┡━━━━━━━━━━━━━━━━━━━━━━━━━━━━━━━━━╇━━━━━━━━━━━━━━━━━━━━━━━━╇━━━━━━━━━━━━━━━┩\n",
       "│ embedding_1 (\u001b[38;5;33mEmbedding\u001b[0m)         │ (\u001b[38;5;34m32\u001b[0m, \u001b[38;5;34m500\u001b[0m, \u001b[38;5;34m128\u001b[0m)         │     \u001b[38;5;34m1,280,000\u001b[0m │\n",
       "├─────────────────────────────────┼────────────────────────┼───────────────┤\n",
       "│ simple_rnn_1 (\u001b[38;5;33mSimpleRNN\u001b[0m)        │ (\u001b[38;5;34m32\u001b[0m, \u001b[38;5;34m128\u001b[0m)              │        \u001b[38;5;34m32,896\u001b[0m │\n",
       "├─────────────────────────────────┼────────────────────────┼───────────────┤\n",
       "│ dense_1 (\u001b[38;5;33mDense\u001b[0m)                 │ (\u001b[38;5;34m32\u001b[0m, \u001b[38;5;34m1\u001b[0m)                │           \u001b[38;5;34m129\u001b[0m │\n",
       "└─────────────────────────────────┴────────────────────────┴───────────────┘\n"
      ]
     },
     "metadata": {},
     "output_type": "display_data"
    },
    {
     "data": {
      "text/html": [
       "<pre style=\"white-space:pre;overflow-x:auto;line-height:normal;font-family:Menlo,'DejaVu Sans Mono',consolas,'Courier New',monospace\"><span style=\"font-weight: bold\"> Total params: </span><span style=\"color: #00af00; text-decoration-color: #00af00\">1,313,027</span> (5.01 MB)\n",
       "</pre>\n"
      ],
      "text/plain": [
       "\u001b[1m Total params: \u001b[0m\u001b[38;5;34m1,313,027\u001b[0m (5.01 MB)\n"
      ]
     },
     "metadata": {},
     "output_type": "display_data"
    },
    {
     "data": {
      "text/html": [
       "<pre style=\"white-space:pre;overflow-x:auto;line-height:normal;font-family:Menlo,'DejaVu Sans Mono',consolas,'Courier New',monospace\"><span style=\"font-weight: bold\"> Trainable params: </span><span style=\"color: #00af00; text-decoration-color: #00af00\">1,313,025</span> (5.01 MB)\n",
       "</pre>\n"
      ],
      "text/plain": [
       "\u001b[1m Trainable params: \u001b[0m\u001b[38;5;34m1,313,025\u001b[0m (5.01 MB)\n"
      ]
     },
     "metadata": {},
     "output_type": "display_data"
    },
    {
     "data": {
      "text/html": [
       "<pre style=\"white-space:pre;overflow-x:auto;line-height:normal;font-family:Menlo,'DejaVu Sans Mono',consolas,'Courier New',monospace\"><span style=\"font-weight: bold\"> Non-trainable params: </span><span style=\"color: #00af00; text-decoration-color: #00af00\">0</span> (0.00 B)\n",
       "</pre>\n"
      ],
      "text/plain": [
       "\u001b[1m Non-trainable params: \u001b[0m\u001b[38;5;34m0\u001b[0m (0.00 B)\n"
      ]
     },
     "metadata": {},
     "output_type": "display_data"
    },
    {
     "data": {
      "text/html": [
       "<pre style=\"white-space:pre;overflow-x:auto;line-height:normal;font-family:Menlo,'DejaVu Sans Mono',consolas,'Courier New',monospace\"><span style=\"font-weight: bold\"> Optimizer params: </span><span style=\"color: #00af00; text-decoration-color: #00af00\">2</span> (12.00 B)\n",
       "</pre>\n"
      ],
      "text/plain": [
       "\u001b[1m Optimizer params: \u001b[0m\u001b[38;5;34m2\u001b[0m (12.00 B)\n"
      ]
     },
     "metadata": {},
     "output_type": "display_data"
    }
   ],
   "source": [
    "# Load the pre-trained model with ReLU activation\n",
    "model = load_model('simple_rnn_imdb.h5')\n",
    "model.summary()"
   ]
  },
  {
   "cell_type": "code",
   "execution_count": 4,
   "metadata": {},
   "outputs": [
    {
     "data": {
      "text/plain": [
       "[array([[ 0.14573789, -0.19868366, -0.13176994, ..., -0.15282618,\n",
       "         -0.0564215 , -0.03347856],\n",
       "        [-0.01442655,  0.00545734,  0.01300628, ..., -0.06440443,\n",
       "         -0.00319821,  0.02354449],\n",
       "        [ 0.02468695, -0.12667719, -0.03044548, ..., -0.11187447,\n",
       "         -0.10288448,  0.09921599],\n",
       "        ...,\n",
       "        [ 0.00936104,  0.05760191, -0.05935301, ...,  0.0366248 ,\n",
       "          0.05219707,  0.04881307],\n",
       "        [ 0.00595572, -0.04233635,  0.08048839, ...,  0.04463879,\n",
       "          0.00855609, -0.00662994],\n",
       "        [-0.02134787, -0.0908523 ,  0.03516512, ..., -0.04194845,\n",
       "         -0.0445365 ,  0.01541132]], dtype=float32),\n",
       " array([[ 0.0161666 ,  0.09035863, -0.145716  , ..., -0.02671578,\n",
       "          0.12797493, -0.12013081],\n",
       "        [ 0.09751207,  0.11257325,  0.18150035, ..., -0.07388329,\n",
       "          0.08369179,  0.01011458],\n",
       "        [ 0.13286893, -0.06388938,  0.05192344, ..., -0.14250676,\n",
       "          0.16570826,  0.01161788],\n",
       "        ...,\n",
       "        [ 0.08295959,  0.13707782,  0.15412448, ...,  0.17101729,\n",
       "          0.0145065 , -0.0806136 ],\n",
       "        [-0.03394668, -0.08620642,  0.01465235, ...,  0.10346904,\n",
       "          0.0998575 , -0.09718127],\n",
       "        [-0.08756568,  0.15382402, -0.1168339 , ...,  0.06150124,\n",
       "          0.02053144, -0.14473504]], dtype=float32),\n",
       " array([[ 0.03173273,  0.10398648, -0.17970714, ...,  0.21481457,\n",
       "         -0.18801948, -0.13167283],\n",
       "        [ 0.03025317,  0.02673944, -0.04286057, ..., -0.01494853,\n",
       "         -0.13072698, -0.12928033],\n",
       "        [-0.03121936, -0.18207283, -0.10422506, ..., -0.00311665,\n",
       "         -0.10186553,  0.08735615],\n",
       "        ...,\n",
       "        [ 0.19825979,  0.08325022, -0.021133  , ...,  0.05810612,\n",
       "         -0.1411347 , -0.00868751],\n",
       "        [ 0.09638835, -0.03350611,  0.24985747, ...,  0.08103853,\n",
       "         -0.04856559,  0.04140585],\n",
       "        [-0.04918396, -0.11005681, -0.09846823, ...,  0.03677308,\n",
       "          0.00174884, -0.11307139]], dtype=float32),\n",
       " array([ 1.1090246e-02,  2.6403992e-02, -2.1553060e-02, -2.7457548e-02,\n",
       "         1.9146895e-02,  3.8303480e-02, -3.4068823e-02, -1.5939135e-02,\n",
       "         2.3389412e-02, -4.0451743e-02, -3.3545293e-02,  6.6238460e-03,\n",
       "        -1.9539101e-02, -2.6699984e-02, -5.3048328e-02, -1.2457322e-02,\n",
       "         2.9604606e-02, -1.9188622e-02, -7.5187154e-02, -3.0890713e-02,\n",
       "         4.0070754e-03, -1.4665286e-02, -2.6135037e-02, -4.1067127e-02,\n",
       "        -2.6332526e-02, -4.0234745e-02,  2.3904410e-03, -4.3852970e-02,\n",
       "        -1.2166166e-02, -2.8381919e-02,  3.0763078e-02,  3.5043336e-02,\n",
       "         4.0936163e-03, -7.1907253e-03,  2.6928624e-02,  4.5668613e-02,\n",
       "         8.0480436e-03,  2.2280740e-03, -7.3380554e-03, -2.2185424e-02,\n",
       "        -1.8522406e-02, -1.0666624e-02,  9.8689636e-03, -1.9332616e-02,\n",
       "        -2.4774557e-02, -3.8937852e-04,  6.3867555e-03, -2.3161367e-02,\n",
       "         3.1242823e-02,  3.1620630e-03, -1.6283100e-02, -3.7183490e-02,\n",
       "         3.3009302e-02,  4.0583521e-02, -3.0728772e-02,  3.3170659e-02,\n",
       "        -3.3385728e-02, -2.7913559e-02,  4.1888453e-02, -6.6918628e-03,\n",
       "        -5.7329774e-02,  9.1307191e-03, -2.4196792e-02,  5.2718520e-02,\n",
       "        -4.3801270e-02,  4.4549625e-02, -2.3107855e-02, -1.0084021e-02,\n",
       "        -9.8058386e-03,  8.3483814e-05,  4.9977084e-03, -6.0973454e-02,\n",
       "         3.5915699e-02,  4.4788886e-02, -3.1675205e-02,  4.4911064e-02,\n",
       "         5.2149747e-02, -1.7123977e-02, -2.6876030e-02,  4.7282003e-02,\n",
       "        -2.4411358e-02, -2.1776676e-02,  3.3809572e-02, -2.2819238e-02,\n",
       "         4.0603381e-02,  7.2299473e-02, -2.7426252e-02,  4.3653600e-02,\n",
       "         3.5939820e-02,  6.7088720e-03,  1.3929951e-02,  3.9246760e-02,\n",
       "        -1.8652644e-02, -3.6689214e-02, -2.5847918e-04,  4.6794105e-02,\n",
       "        -1.9138265e-02, -8.8864667e-03, -1.4526745e-02,  4.7658142e-02,\n",
       "         4.9282531e-03, -2.5204854e-02,  1.7131089e-03,  3.8217012e-02,\n",
       "         5.1269822e-02,  1.9730551e-02, -1.4887532e-02, -1.4510037e-02,\n",
       "        -3.6335997e-02, -2.6085041e-02,  1.8125378e-03, -2.9232327e-02,\n",
       "        -2.9340126e-02,  1.3379548e-02, -4.3537058e-02, -3.7875000e-02,\n",
       "         3.1581916e-02,  8.9336066e-03, -3.7255891e-02, -2.6365103e-02,\n",
       "         4.8956048e-02, -1.3134145e-02,  3.7730761e-02,  3.9266352e-02,\n",
       "        -3.8578060e-02,  3.3316504e-02, -1.4781172e-02, -1.1124078e-02],\n",
       "       dtype=float32),\n",
       " array([[ 0.05051133],\n",
       "        [ 0.0610529 ],\n",
       "        [-0.1557949 ],\n",
       "        [ 0.0142669 ],\n",
       "        [ 0.01181069],\n",
       "        [ 0.1905161 ],\n",
       "        [-0.00310231],\n",
       "        [-0.12563498],\n",
       "        [ 0.21627867],\n",
       "        [-0.12044072],\n",
       "        [ 0.114562  ],\n",
       "        [-0.21398881],\n",
       "        [-0.18874638],\n",
       "        [-0.17470227],\n",
       "        [ 0.12130381],\n",
       "        [-0.20741804],\n",
       "        [-0.18691422],\n",
       "        [ 0.00553   ],\n",
       "        [-0.26037288],\n",
       "        [ 0.06698193],\n",
       "        [-0.3451277 ],\n",
       "        [-0.06566505],\n",
       "        [-0.02707843],\n",
       "        [-0.19749136],\n",
       "        [ 0.23280469],\n",
       "        [ 0.20805876],\n",
       "        [ 0.03386644],\n",
       "        [-0.13216326],\n",
       "        [-0.17273906],\n",
       "        [ 0.07739031],\n",
       "        [ 0.15025045],\n",
       "        [ 0.15805084],\n",
       "        [-0.22538142],\n",
       "        [-0.40019992],\n",
       "        [ 0.1261259 ],\n",
       "        [-0.04000051],\n",
       "        [-0.34814763],\n",
       "        [-0.0197601 ],\n",
       "        [-0.15161684],\n",
       "        [-0.01200153],\n",
       "        [-0.05837092],\n",
       "        [-0.15341231],\n",
       "        [-0.10591632],\n",
       "        [-0.14836417],\n",
       "        [-0.18271701],\n",
       "        [-0.06730223],\n",
       "        [ 0.06337983],\n",
       "        [ 0.02560813],\n",
       "        [-0.2961728 ],\n",
       "        [ 0.03373496],\n",
       "        [-0.23885551],\n",
       "        [-0.24344139],\n",
       "        [-0.1154215 ],\n",
       "        [-0.3718497 ],\n",
       "        [-0.07384621],\n",
       "        [-0.26433286],\n",
       "        [ 0.07857422],\n",
       "        [-0.2635402 ],\n",
       "        [ 0.15283614],\n",
       "        [-0.3222661 ],\n",
       "        [-0.00436363],\n",
       "        [-0.11769849],\n",
       "        [-0.02462352],\n",
       "        [ 0.05721357],\n",
       "        [-0.0550652 ],\n",
       "        [-0.06026316],\n",
       "        [-0.17930625],\n",
       "        [-0.1015953 ],\n",
       "        [-0.07509854],\n",
       "        [-0.11588494],\n",
       "        [-0.05570694],\n",
       "        [-0.1137862 ],\n",
       "        [-0.1531397 ],\n",
       "        [ 0.18885617],\n",
       "        [-0.19604735],\n",
       "        [ 0.07311872],\n",
       "        [ 0.13425799],\n",
       "        [ 0.0267009 ],\n",
       "        [ 0.01020149],\n",
       "        [ 0.21113974],\n",
       "        [ 0.07685125],\n",
       "        [-0.1187123 ],\n",
       "        [ 0.10547881],\n",
       "        [-0.13521853],\n",
       "        [ 0.12851505],\n",
       "        [-0.25949058],\n",
       "        [-0.17249542],\n",
       "        [ 0.16414554],\n",
       "        [ 0.12919661],\n",
       "        [-0.02966389],\n",
       "        [-0.00080092],\n",
       "        [ 0.15469356],\n",
       "        [-0.02224219],\n",
       "        [-0.09091863],\n",
       "        [ 0.16598944],\n",
       "        [ 0.14367296],\n",
       "        [-0.03920572],\n",
       "        [ 0.20425972],\n",
       "        [ 0.05020341],\n",
       "        [ 0.12327502],\n",
       "        [-0.16273734],\n",
       "        [-0.08088324],\n",
       "        [-0.12223741],\n",
       "        [-0.1510029 ],\n",
       "        [ 0.08228201],\n",
       "        [ 0.2819707 ],\n",
       "        [-0.10146079],\n",
       "        [ 0.06839959],\n",
       "        [ 0.09688405],\n",
       "        [ 0.12188999],\n",
       "        [-0.11039469],\n",
       "        [ 0.1774211 ],\n",
       "        [-0.19602011],\n",
       "        [ 0.13346718],\n",
       "        [ 0.19382766],\n",
       "        [-0.02871224],\n",
       "        [-0.17360348],\n",
       "        [ 0.1264168 ],\n",
       "        [-0.00847348],\n",
       "        [ 0.01098238],\n",
       "        [ 0.16655314],\n",
       "        [-0.14620158],\n",
       "        [ 0.1064907 ],\n",
       "        [-0.03232834],\n",
       "        [-0.1912908 ],\n",
       "        [-0.15775964],\n",
       "        [-0.10950129],\n",
       "        [-0.04044524]], dtype=float32),\n",
       " array([-0.5209004], dtype=float32)]"
      ]
     },
     "execution_count": 4,
     "metadata": {},
     "output_type": "execute_result"
    }
   ],
   "source": [
    "model.get_weights()"
   ]
  },
  {
   "cell_type": "code",
   "execution_count": 5,
   "metadata": {},
   "outputs": [],
   "source": [
    "# Step 2: Helper Functions\n",
    "# Function to decode reviews\n",
    "def decode_review(encoded_review):\n",
    "    return ' '.join([reverse_word_index.get(i - 3, '?') for i in encoded_review])\n",
    "\n",
    "# Function to preprocess user input\n",
    "def preprocess_text(text):\n",
    "    words = text.lower().split()\n",
    "    encoded_review = [word_index.get(word, 2) + 3 for word in words]\n",
    "    padded_review = sequence.pad_sequences([encoded_review], maxlen=500)\n",
    "    return padded_review"
   ]
  },
  {
   "cell_type": "code",
   "execution_count": 6,
   "metadata": {},
   "outputs": [],
   "source": [
    "### Prediction  function\n",
    "\n",
    "def predict_sentiment(review):\n",
    "    preprocessed_input=preprocess_text(review)\n",
    "\n",
    "    prediction=model.predict(preprocessed_input)\n",
    "\n",
    "    sentiment = 'Positive' if prediction[0][0] > 0.5 else 'Negative'\n",
    "    \n",
    "    return sentiment, prediction[0][0]"
   ]
  },
  {
   "cell_type": "code",
   "execution_count": 7,
   "metadata": {},
   "outputs": [
    {
     "name": "stdout",
     "output_type": "stream",
     "text": [
      "\u001b[1m1/1\u001b[0m \u001b[32m━━━━━━━━━━━━━━━━━━━━\u001b[0m\u001b[37m\u001b[0m \u001b[1m0s\u001b[0m 111ms/step\n",
      "Review: This movie was fantastic! The acting was great and the plot was thrilling.\n",
      "Sentiment: Positive\n",
      "Prediction Score: 0.7907905578613281\n"
     ]
    }
   ],
   "source": [
    "# Step 4: User Input and Prediction\n",
    "# Example review for prediction\n",
    "example_review = \"This movie was fantastic! The acting was great and the plot was thrilling.\"\n",
    "\n",
    "sentiment,score=predict_sentiment(example_review)\n",
    "\n",
    "print(f'Review: {example_review}')\n",
    "print(f'Sentiment: {sentiment}')\n",
    "print(f'Prediction Score: {score}')"
   ]
  },
  {
   "cell_type": "code",
   "execution_count": 8,
   "metadata": {},
   "outputs": [
    {
     "name": "stdout",
     "output_type": "stream",
     "text": [
      "\u001b[1m1/1\u001b[0m \u001b[32m━━━━━━━━━━━━━━━━━━━━\u001b[0m\u001b[37m\u001b[0m \u001b[1m0s\u001b[0m 29ms/step\n",
      "Review: I had high hopes for this movie, but it was a complete letdown. The plot was incredibly predictable, the acting was wooden, and the pacing was painfully slow. I kept waiting for something exciting to happen — but it never did. Honestly, I don't know how this got greenlit. Save yourself two hours and skip it\n",
      "Sentiment: Negative\n",
      "Prediction Score: 0.48803257942199707\n"
     ]
    }
   ],
   "source": [
    "example_review = \"I had high hopes for this movie, but it was a complete letdown. The plot was incredibly predictable, the acting was wooden, and the pacing was painfully slow. I kept waiting for something exciting to happen — but it never did. Honestly, I don't know how this got greenlit. Save yourself two hours and skip it\"\n",
    "\n",
    "sentiment,score=predict_sentiment(example_review)\n",
    "\n",
    "print(f'Review: {example_review}')\n",
    "print(f'Sentiment: {sentiment}')\n",
    "print(f'Prediction Score: {score}')"
   ]
  }
 ],
 "metadata": {
  "kernelspec": {
   "display_name": "venv",
   "language": "python",
   "name": "python3"
  },
  "language_info": {
   "codemirror_mode": {
    "name": "ipython",
    "version": 3
   },
   "file_extension": ".py",
   "mimetype": "text/x-python",
   "name": "python",
   "nbconvert_exporter": "python",
   "pygments_lexer": "ipython3",
   "version": "3.12.7"
  }
 },
 "nbformat": 4,
 "nbformat_minor": 2
}
